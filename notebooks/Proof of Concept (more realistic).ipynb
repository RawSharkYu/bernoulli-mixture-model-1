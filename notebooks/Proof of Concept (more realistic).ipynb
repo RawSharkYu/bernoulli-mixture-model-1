{
 "cells": [
  {
   "cell_type": "code",
   "execution_count": 1,
   "metadata": {
    "collapsed": false
   },
   "outputs": [],
   "source": [
    "%matplotlib inline\n",
    "import numpy as np\n",
    "import pandas as pd\n",
    "from matplotlib import pyplot as plt\n",
    "import seaborn as sns"
   ]
  },
  {
   "cell_type": "code",
   "execution_count": 2,
   "metadata": {
    "collapsed": false
   },
   "outputs": [],
   "source": [
    "sns.set_color_codes('deep')"
   ]
  },
  {
   "cell_type": "code",
   "execution_count": 3,
   "metadata": {
    "collapsed": true
   },
   "outputs": [],
   "source": [
    "RANDOM_STATE = 112"
   ]
  },
  {
   "cell_type": "markdown",
   "metadata": {},
   "source": [
    "# Loading data"
   ]
  },
  {
   "cell_type": "code",
   "execution_count": 4,
   "metadata": {
    "collapsed": false
   },
   "outputs": [],
   "source": [
    "import sklearn.datasets\n",
    "digits_dataset = sklearn.datasets.load_digits()\n",
    "digits = pd.DataFrame(digits_dataset.data)\n",
    "labels = pd.Series(digits_dataset.target, index=digits.index, name='label')\n",
    "\n",
    "THRESHOLD = np.mean(digits.values.reshape(-1))\n",
    "binary_digits = digits >= THRESHOLD\n",
    "\n",
    "from sklearn.utils import shuffle\n",
    "binary_digits = shuffle(binary_digits, random_state=RANDOM_STATE)\n",
    "labels = labels.loc[binary_digits.index]"
   ]
  },
  {
   "cell_type": "code",
   "execution_count": 5,
   "metadata": {
    "collapsed": true
   },
   "outputs": [],
   "source": [
    "K=len(labels.unique())\n",
    "D=len(binary_digits.columns)"
   ]
  },
  {
   "cell_type": "code",
   "execution_count": 6,
   "metadata": {
    "collapsed": true
   },
   "outputs": [],
   "source": [
    "def draw_digit(row, vmin=0, vmax=1, square=True, **kwargs):\n",
    "    return sns.heatmap(row.astype(float).reshape(8, 8), square=square, vmin=vmin, vmax=vmax, **kwargs)"
   ]
  },
  {
   "cell_type": "code",
   "execution_count": 7,
   "metadata": {
    "collapsed": false
   },
   "outputs": [
    {
     "name": "stderr",
     "output_type": "stream",
     "text": [
      "/Users/saulius/.virtualenvs/scientific-py3/lib/python3.4/site-packages/matplotlib/collections.py:590: FutureWarning: elementwise comparison failed; returning scalar instead, but in the future will perform elementwise comparison\n",
      "  if self._edgecolors == str('face'):\n"
     ]
    },
    {
     "data": {
      "text/plain": [
       "<matplotlib.text.Text at 0x10694e3c8>"
      ]
     },
     "execution_count": 7,
     "metadata": {},
     "output_type": "execute_result"
    },
    {
     "data": {
      "image/png": "[encoded data removed]",
      "text/plain": [
       "<matplotlib.figure.Figure at 0x106babef0>"
      ]
     },
     "metadata": {},
     "output_type": "display_data"
    }
   ],
   "source": [
    "draw_digit(binary_digits.iloc[0])\n",
    "plt.title(labels.iloc[0])"
   ]
  },
  {
   "cell_type": "code",
   "execution_count": 8,
   "metadata": {
    "collapsed": true
   },
   "outputs": [],
   "source": [
    "up_missing = binary_digits.iloc[:len(binary_digits)//4].copy()\n",
    "bottom_missing = binary_digits.iloc[len(binary_digits)//4:len(binary_digits)//2].copy()\n",
    "even_missing = binary_digits.iloc[len(binary_digits)//2:].copy()\n",
    "up_missing.iloc[:, :D//2] = None\n",
    "bottom_missing.iloc[:, D//2:] = None\n",
    "even_missing.iloc[:, np.arange(0, D, 2)] = None\n",
    "\n",
    "up_missing['dataset_id'] = 'up_missing'\n",
    "bottom_missing['dataset_id'] = 'bottom_missing'\n",
    "even_missing['dataset_id'] = 'even_missing'\n",
    "\n",
    "training_data = pd.concat((up_missing, bottom_missing, even_missing))"
   ]
  },
  {
   "cell_type": "code",
   "execution_count": 9,
   "metadata": {
    "collapsed": true
   },
   "outputs": [],
   "source": [
    "training_data['weight'] = 1"
   ]
  },
  {
   "cell_type": "code",
   "execution_count": 10,
   "metadata": {
    "collapsed": true
   },
   "outputs": [],
   "source": [
    "def label_distribution(data, labels):\n",
    "    ans = data[['dataset_id', 'weight']].join(labels).groupby(['dataset_id', 'label']).sum()['weight']\n",
    "    ans /= ans.sum(level='dataset_id')\n",
    "    \n",
    "    return ans"
   ]
  },
  {
   "cell_type": "code",
   "execution_count": 11,
   "metadata": {
    "collapsed": false
   },
   "outputs": [],
   "source": [
    "from bernoullimix.random_initialisation import random_mixture_generator\n",
    "N_MIXTURES_TO_TRAIN = 50\n",
    "K=2"
   ]
  },
  {
   "cell_type": "markdown",
   "metadata": {},
   "source": [
    "# Constraining mixing coefficients for datasets"
   ]
  },
  {
   "cell_type": "code",
   "execution_count": 12,
   "metadata": {
    "collapsed": true
   },
   "outputs": [],
   "source": [
    "training_data_same_dataset = training_data.copy()\n",
    "training_data_same_dataset['dataset_id'] = 'merged'"
   ]
  },
  {
   "cell_type": "code",
   "execution_count": 13,
   "metadata": {
    "collapsed": false
   },
   "outputs": [
    {
     "data": {
      "text/plain": [
       "<matplotlib.lines.Line2D at 0x106a06080>"
      ]
     },
     "execution_count": 13,
     "metadata": {},
     "output_type": "execute_result"
    },
    {
     "data": {
      "image/png": "[encoded data removed]",
      "text/plain": [
       "<matplotlib.figure.Figure at 0x106a062e8>"
      ]
     },
     "metadata": {},
     "output_type": "display_data"
    }
   ],
   "source": [
    "label_distribution(training_data_same_dataset, labels).unstack('label').plot(kind='bar')\n",
    "plt.axhline(0.1, linestyle=':')"
   ]
  },
  {
   "cell_type": "code",
   "execution_count": null,
   "metadata": {
    "collapsed": true
   },
   "outputs": [],
   "source": []
  },
  {
   "cell_type": "code",
   "execution_count": 14,
   "metadata": {
    "collapsed": false
   },
   "outputs": [
    {
     "name": "stdout",
     "output_type": "stream",
     "text": [
      "CPU times: user 2.18 s, sys: 225 ms, total: 2.4 s\n",
      "Wall time: 16min 35s\n"
     ]
    },
    {
     "name": "stderr",
     "output_type": "stream",
     "text": [
      "/Users/saulius/dev/bernoulli-mixture-model/bernoullimix/random_initialisation.py:140: FutureWarning: using '-' to provide set differences with Indexes is deprecated, use .difference()\n",
      "  data = dataset[dataset.columns - [DATASET_ID_COLUMN, WEIGHT_COLUMN]]\n",
      "/Users/saulius/dev/bernoulli-mixture-model/bernoullimix/random_initialisation.py:140: FutureWarning: using '-' to provide set differences with Indexes is deprecated, use .difference()\n",
      "  data = dataset[dataset.columns - [DATASET_ID_COLUMN, WEIGHT_COLUMN]]\n",
      "/Users/saulius/dev/bernoulli-mixture-model/bernoullimix/random_initialisation.py:140: FutureWarning: using '-' to provide set differences with Indexes is deprecated, use .difference()\n",
      "  data = dataset[dataset.columns - [DATASET_ID_COLUMN, WEIGHT_COLUMN]]\n",
      "/Users/saulius/dev/bernoulli-mixture-model/bernoullimix/random_initialisation.py:140: FutureWarning: using '-' to provide set differences with Indexes is deprecated, use .difference()\n",
      "  data = dataset[dataset.columns - [DATASET_ID_COLUMN, WEIGHT_COLUMN]]\n",
      "/Users/saulius/dev/bernoulli-mixture-model/bernoullimix/random_initialisation.py:140: FutureWarning: using '-' to provide set differences with Indexes is deprecated, use .difference()\n",
      "  data = dataset[dataset.columns - [DATASET_ID_COLUMN, WEIGHT_COLUMN]]\n",
      "/Users/saulius/dev/bernoulli-mixture-model/bernoullimix/random_initialisation.py:140: FutureWarning: using '-' to provide set differences with Indexes is deprecated, use .difference()\n",
      "  data = dataset[dataset.columns - [DATASET_ID_COLUMN, WEIGHT_COLUMN]]\n",
      "/Users/saulius/dev/bernoulli-mixture-model/bernoullimix/random_initialisation.py:140: FutureWarning: using '-' to provide set differences with Indexes is deprecated, use .difference()\n",
      "  data = dataset[dataset.columns - [DATASET_ID_COLUMN, WEIGHT_COLUMN]]\n",
      "/Users/saulius/dev/bernoulli-mixture-model/bernoullimix/random_initialisation.py:140: FutureWarning: using '-' to provide set differences with Indexes is deprecated, use .difference()\n",
      "  data = dataset[dataset.columns - [DATASET_ID_COLUMN, WEIGHT_COLUMN]]\n"
     ]
    }
   ],
   "source": [
    "%%time\n",
    "from bernoullimix.n_components_search import search_k\n",
    "\n",
    "results, mixtures = search_k(range(2, 16), training_data, mixtures_per_k=N_MIXTURES_TO_TRAIN, random_state=RANDOM_STATE, \n",
    "                             verbose=False, eps=1e-4, n_iter=None, n_jobs=8)"
   ]
  },
  {
   "cell_type": "code",
   "execution_count": 15,
   "metadata": {
    "collapsed": false
   },
   "outputs": [
    {
     "data": {
      "text/html": [
       "<div>\n",
       "<table border=\"1\" class=\"dataframe\">\n",
       "  <thead>\n",
       "    <tr style=\"text-align: right;\">\n",
       "      <th>n_components</th>\n",
       "      <th>converged</th>\n",
       "      <th>n_iterations</th>\n",
       "      <th>log_likelihood</th>\n",
       "      <th>BIC</th>\n",
       "    </tr>\n",
       "  </thead>\n",
       "  <tbody>\n",
       "    <tr>\n",
       "      <th>2</th>\n",
       "      <td>1</td>\n",
       "      <td>114</td>\n",
       "      <td>-23287.015052</td>\n",
       "      <td>47570.715331</td>\n",
       "    </tr>\n",
       "    <tr>\n",
       "      <th>3</th>\n",
       "      <td>1</td>\n",
       "      <td>402</td>\n",
       "      <td>-22339.582619</td>\n",
       "      <td>46177.940015</td>\n",
       "    </tr>\n",
       "    <tr>\n",
       "      <th>4</th>\n",
       "      <td>1</td>\n",
       "      <td>213</td>\n",
       "      <td>-21766.196024</td>\n",
       "      <td>45533.256376</td>\n",
       "    </tr>\n",
       "    <tr>\n",
       "      <th>5</th>\n",
       "      <td>1</td>\n",
       "      <td>654</td>\n",
       "      <td>-21418.285546</td>\n",
       "      <td>45339.524971</td>\n",
       "    </tr>\n",
       "    <tr>\n",
       "      <th>6</th>\n",
       "      <td>1</td>\n",
       "      <td>226</td>\n",
       "      <td>-21035.969459</td>\n",
       "      <td>45076.982348</td>\n",
       "    </tr>\n",
       "    <tr>\n",
       "      <th>7</th>\n",
       "      <td>1</td>\n",
       "      <td>188</td>\n",
       "      <td>-21042.186910</td>\n",
       "      <td>45591.506799</td>\n",
       "    </tr>\n",
       "    <tr>\n",
       "      <th>8</th>\n",
       "      <td>1</td>\n",
       "      <td>340</td>\n",
       "      <td>-20632.059822</td>\n",
       "      <td>45273.342173</td>\n",
       "    </tr>\n",
       "    <tr>\n",
       "      <th>9</th>\n",
       "      <td>1</td>\n",
       "      <td>269</td>\n",
       "      <td>-20554.210249</td>\n",
       "      <td>45619.732577</td>\n",
       "    </tr>\n",
       "    <tr>\n",
       "      <th>10</th>\n",
       "      <td>1</td>\n",
       "      <td>289</td>\n",
       "      <td>-20322.137248</td>\n",
       "      <td>45657.676127</td>\n",
       "    </tr>\n",
       "    <tr>\n",
       "      <th>11</th>\n",
       "      <td>1</td>\n",
       "      <td>328</td>\n",
       "      <td>-20286.258963</td>\n",
       "      <td>46088.009108</td>\n",
       "    </tr>\n",
       "    <tr>\n",
       "      <th>12</th>\n",
       "      <td>1</td>\n",
       "      <td>613</td>\n",
       "      <td>-20153.062318</td>\n",
       "      <td>46323.705368</td>\n",
       "    </tr>\n",
       "    <tr>\n",
       "      <th>13</th>\n",
       "      <td>1</td>\n",
       "      <td>344</td>\n",
       "      <td>-20005.568988</td>\n",
       "      <td>46530.808258</td>\n",
       "    </tr>\n",
       "    <tr>\n",
       "      <th>14</th>\n",
       "      <td>1</td>\n",
       "      <td>533</td>\n",
       "      <td>-19956.595354</td>\n",
       "      <td>46934.950540</td>\n",
       "    </tr>\n",
       "    <tr>\n",
       "      <th>15</th>\n",
       "      <td>1</td>\n",
       "      <td>275</td>\n",
       "      <td>-19803.710859</td>\n",
       "      <td>47131.271100</td>\n",
       "    </tr>\n",
       "  </tbody>\n",
       "</table>\n",
       "</div>"
      ],
      "text/plain": [
       "n_components  converged  n_iterations  log_likelihood           BIC\n",
       "2                     1           114   -23287.015052  47570.715331\n",
       "3                     1           402   -22339.582619  46177.940015\n",
       "4                     1           213   -21766.196024  45533.256376\n",
       "5                     1           654   -21418.285546  45339.524971\n",
       "6                     1           226   -21035.969459  45076.982348\n",
       "7                     1           188   -21042.186910  45591.506799\n",
       "8                     1           340   -20632.059822  45273.342173\n",
       "9                     1           269   -20554.210249  45619.732577\n",
       "10                    1           289   -20322.137248  45657.676127\n",
       "11                    1           328   -20286.258963  46088.009108\n",
       "12                    1           613   -20153.062318  46323.705368\n",
       "13                    1           344   -20005.568988  46530.808258\n",
       "14                    1           533   -19956.595354  46934.950540\n",
       "15                    1           275   -19803.710859  47131.271100"
      ]
     },
     "execution_count": 15,
     "metadata": {},
     "output_type": "execute_result"
    }
   ],
   "source": [
    "results"
   ]
  },
  {
   "cell_type": "code",
   "execution_count": 17,
   "metadata": {
    "collapsed": false
   },
   "outputs": [
    {
     "data": {
      "text/plain": [
       "<matplotlib.axes._subplots.AxesSubplot at 0x1071cc438>"
      ]
     },
     "execution_count": 17,
     "metadata": {},
     "output_type": "execute_result"
    },
    {
     "data": {
      "image/png": "[encoded data removed]",
      "text/plain": [
       "<matplotlib.figure.Figure at 0x1068c24e0>"
      ]
     },
     "metadata": {},
     "output_type": "display_data"
    }
   ],
   "source": [
    "results['BIC'].plot()"
   ]
  },
  {
   "cell_type": "code",
   "execution_count": null,
   "metadata": {
    "collapsed": false
   },
   "outputs": [],
   "source": [
    "mixture = mixtures[7]\n",
    "plt.figure(figsize=(15,15))\n",
    "for j, (component, row) in enumerate(mixture.emission_probabilities.iterrows(), start=1):\n",
    "    plt.subplot(4,3,j)\n",
    "    draw_digit(row)\n",
    "    plt.title(component)\n",
    "plt.suptitle('Mixture K={}'.format(mixture.n_components))"
   ]
  },
  {
   "cell_type": "code",
   "execution_count": null,
   "metadata": {
    "collapsed": true
   },
   "outputs": [],
   "source": [
    "raise Exception"
   ]
  },
  {
   "cell_type": "code",
   "execution_count": null,
   "metadata": {
    "collapsed": false
   },
   "outputs": [],
   "source": [
    "import itertools\n",
    "mixtures = list(itertools.islice(random_mixture_generator(K, \n",
    "                                                          training_data_same_dataset, \n",
    "                                                          random_state=RANDOM_STATE), \n",
    "                                 N_MIXTURES_TO_TRAIN))"
   ]
  },
  {
   "cell_type": "code",
   "execution_count": null,
   "metadata": {
    "collapsed": false,
    "scrolled": false
   },
   "outputs": [],
   "source": [
    "%%time\n",
    "fit_results = []\n",
    "\n",
    "for i, mixture in enumerate(mixtures):\n",
    "    print('Fitting #{}'.format(i))\n",
    "    \n",
    "    result = mixture.fit(training_data_same_dataset, eps=1e-4, verbose=False, n_iter=None)\n",
    "    print(result)\n",
    "    fit_results.append(result)  \n",
    "    "
   ]
  },
  {
   "cell_type": "code",
   "execution_count": null,
   "metadata": {
    "collapsed": true
   },
   "outputs": [],
   "source": [
    "log_likelihoods = [x[2] for x in fit_results]"
   ]
  },
  {
   "cell_type": "code",
   "execution_count": null,
   "metadata": {
    "collapsed": false
   },
   "outputs": [],
   "source": [
    "for i, mixture in enumerate(mixtures):\n",
    "    plt.figure()\n",
    "    mixture.mixing_coefficients.T.plot(kind='bar')\n",
    "    plt.title('Mixture #{}. LL={}'.format(i, fit_results[i][2]))"
   ]
  },
  {
   "cell_type": "code",
   "execution_count": null,
   "metadata": {
    "collapsed": false,
    "scrolled": false
   },
   "outputs": [],
   "source": [
    "for i, mixture in enumerate(mixtures):\n",
    "    plt.figure(figsize=(15,15))\n",
    "    for j, (component, row) in enumerate(mixture.emission_probabilities.iterrows(), start=1):\n",
    "        plt.subplot(4,3,j)\n",
    "        draw_digit(row)\n",
    "        plt.title(component)\n",
    "    plt.suptitle('Mixture #{}. LL={}'.format(i, fit_results[i][2]))\n",
    "        "
   ]
  },
  {
   "cell_type": "markdown",
   "metadata": {},
   "source": [
    "# Unconstrained mixture"
   ]
  },
  {
   "cell_type": "code",
   "execution_count": null,
   "metadata": {
    "collapsed": false
   },
   "outputs": [],
   "source": [
    "label_distribution(training_data, labels).unstack('label').plot(kind='bar')\n",
    "plt.axhline(0.1, linestyle=':')"
   ]
  },
  {
   "cell_type": "code",
   "execution_count": null,
   "metadata": {
    "collapsed": false
   },
   "outputs": [],
   "source": [
    "import itertools\n",
    "mixtures = list(itertools.islice(random_mixture_generator(K, \n",
    "                                                          training_data, \n",
    "                                                          random_state=RANDOM_STATE), \n",
    "                                 N_MIXTURES_TO_TRAIN))"
   ]
  },
  {
   "cell_type": "code",
   "execution_count": null,
   "metadata": {
    "collapsed": false
   },
   "outputs": [],
   "source": [
    "%%time\n",
    "fit_results = []\n",
    "\n",
    "for i, mixture in enumerate(mixtures):\n",
    "    print('Fitting #{}'.format(i))\n",
    "    \n",
    "    result = mixture.fit(training_data, eps=1e-4, verbose=False, n_iter=None)\n",
    "    print(result)\n",
    "    fit_results.append(result)  \n",
    "    "
   ]
  },
  {
   "cell_type": "code",
   "execution_count": null,
   "metadata": {
    "collapsed": true
   },
   "outputs": [],
   "source": [
    "log_likelihoods = [x[2] for x in fit_results]"
   ]
  },
  {
   "cell_type": "code",
   "execution_count": null,
   "metadata": {
    "collapsed": false
   },
   "outputs": [],
   "source": [
    "for i, mixture in enumerate(mixtures):\n",
    "    plt.figure()\n",
    "    mixture.mixing_coefficients.T.plot(kind='bar')\n",
    "    plt.title('Mixture #{}. LL={}'.format(i, fit_results[i][2]))"
   ]
  },
  {
   "cell_type": "code",
   "execution_count": null,
   "metadata": {
    "collapsed": false,
    "scrolled": false
   },
   "outputs": [],
   "source": [
    "for i, mixture in enumerate(mixtures):\n",
    "    plt.figure(figsize=(15,15))\n",
    "    for j, (component, row) in enumerate(mixture.emission_probabilities.iterrows(), start=1):\n",
    "        plt.subplot(4,3,j)\n",
    "        draw_digit(row)\n",
    "        plt.title(component)\n",
    "    plt.suptitle('Mixture #{}. LL={}'.format(i, fit_results[i][2]))"
   ]
  },
  {
   "cell_type": "code",
   "execution_count": null,
   "metadata": {
    "collapsed": true
   },
   "outputs": [],
   "source": []
  }
 ],
 "metadata": {
  "kernelspec": {
   "display_name": "Python 3",
   "language": "python",
   "name": "python3"
  },
  "language_info": {
   "codemirror_mode": {
    "name": "ipython",
    "version": 3
   },
   "file_extension": ".py",
   "mimetype": "text/x-python",
   "name": "python",
   "nbconvert_exporter": "python",
   "pygments_lexer": "ipython3",
   "version": "3.4.3"
  }
 },
 "nbformat": 4,
 "nbformat_minor": 0
}
