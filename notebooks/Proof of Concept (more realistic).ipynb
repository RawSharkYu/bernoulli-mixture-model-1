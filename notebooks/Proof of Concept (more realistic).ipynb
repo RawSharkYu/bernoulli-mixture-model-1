{
 "cells": [
  {
   "cell_type": "code",
   "execution_count": 1,
   "metadata": {
    "collapsed": false
   },
   "outputs": [
    {
     "name": "stderr",
     "output_type": "stream",
     "text": [
      "/home/saulius/.virtualenvs/scientific-py3/lib/python3.5/site-packages/matplotlib/__init__.py:872: UserWarning: axes.color_cycle is deprecated and replaced with axes.prop_cycle; please use the latter.\n",
      "  warnings.warn(self.msg_depr % (key, alt_key))\n",
      "/home/saulius/.virtualenvs/scientific-py3/lib/python3.5/site-packages/matplotlib/__init__.py:872: UserWarning: axes.color_cycle is deprecated and replaced with axes.prop_cycle; please use the latter.\n",
      "  warnings.warn(self.msg_depr % (key, alt_key))\n"
     ]
    }
   ],
   "source": [
    "%matplotlib inline\n",
    "import numpy as np\n",
    "import pandas as pd\n",
    "from matplotlib import pyplot as plt\n",
    "import seaborn as sns"
   ]
  },
  {
   "cell_type": "code",
   "execution_count": 2,
   "metadata": {
    "collapsed": false
   },
   "outputs": [],
   "source": [
    "sns.set_color_codes('deep')"
   ]
  },
  {
   "cell_type": "code",
   "execution_count": 3,
   "metadata": {
    "collapsed": true
   },
   "outputs": [],
   "source": [
    "RANDOM_STATE = 112"
   ]
  },
  {
   "cell_type": "markdown",
   "metadata": {},
   "source": [
    "# Loading data"
   ]
  },
  {
   "cell_type": "code",
   "execution_count": 4,
   "metadata": {
    "collapsed": false
   },
   "outputs": [
    {
     "name": "stderr",
     "output_type": "stream",
     "text": [
      "/home/saulius/.virtualenvs/scientific-py3/lib/python3.5/site-packages/sklearn/utils/fixes.py:64: DeprecationWarning: inspect.getargspec() is deprecated, use inspect.signature() instead\n",
      "  if 'order' in inspect.getargspec(np.copy)[0]:\n"
     ]
    }
   ],
   "source": [
    "import sklearn.datasets\n",
    "digits_dataset = sklearn.datasets.load_digits()\n",
    "digits = pd.DataFrame(digits_dataset.data)\n",
    "labels = pd.Series(digits_dataset.target, index=digits.index, name='label')\n",
    "\n",
    "THRESHOLD = np.mean(digits.values.reshape(-1))\n",
    "binary_digits = digits >= THRESHOLD\n",
    "\n",
    "from sklearn.utils import shuffle\n",
    "binary_digits = shuffle(binary_digits, random_state=RANDOM_STATE)\n",
    "labels = labels.loc[binary_digits.index]"
   ]
  },
  {
   "cell_type": "code",
   "execution_count": 5,
   "metadata": {
    "collapsed": true
   },
   "outputs": [],
   "source": [
    "K=len(labels.unique())\n",
    "D=len(binary_digits.columns)"
   ]
  },
  {
   "cell_type": "code",
   "execution_count": 6,
   "metadata": {
    "collapsed": true
   },
   "outputs": [],
   "source": [
    "def draw_digit(row, vmin=0, vmax=1, square=True, **kwargs):\n",
    "    return sns.heatmap(row.astype(float).reshape(8, 8), square=square, vmin=vmin, vmax=vmax, **kwargs)"
   ]
  },
  {
   "cell_type": "code",
   "execution_count": 7,
   "metadata": {
    "collapsed": false
   },
   "outputs": [
    {
     "data": {
      "text/plain": [
       "<matplotlib.text.Text at 0x7f98ac860be0>"
      ]
     },
     "execution_count": 7,
     "metadata": {},
     "output_type": "execute_result"
    },
    {
     "data": {
      "image/png": "[encoded data removed]",
      "text/plain": [
       "<matplotlib.figure.Figure at 0x7f98ace94c50>"
      ]
     },
     "metadata": {},
     "output_type": "display_data"
    }
   ],
   "source": [
    "draw_digit(binary_digits.iloc[0])\n",
    "plt.title(labels.iloc[0])"
   ]
  },
  {
   "cell_type": "code",
   "execution_count": 8,
   "metadata": {
    "collapsed": true
   },
   "outputs": [],
   "source": [
    "up_missing = binary_digits.iloc[:len(binary_digits)//4].copy()\n",
    "bottom_missing = binary_digits.iloc[len(binary_digits)//4:len(binary_digits)//2].copy()\n",
    "even_missing = binary_digits.iloc[len(binary_digits)//2:].copy()\n",
    "up_missing.iloc[:, :D//2] = None\n",
    "bottom_missing.iloc[:, D//2:] = None\n",
    "even_missing.iloc[:, np.arange(0, D, 2)] = None\n",
    "\n",
    "up_missing['dataset_id'] = 'up_missing'\n",
    "bottom_missing['dataset_id'] = 'bottom_missing'\n",
    "even_missing['dataset_id'] = 'even_missing'\n",
    "\n",
    "training_data = pd.concat((up_missing, bottom_missing, even_missing))"
   ]
  },
  {
   "cell_type": "code",
   "execution_count": 9,
   "metadata": {
    "collapsed": true
   },
   "outputs": [],
   "source": [
    "training_data['weight'] = 1"
   ]
  },
  {
   "cell_type": "code",
   "execution_count": 10,
   "metadata": {
    "collapsed": true
   },
   "outputs": [],
   "source": [
    "def label_distribution(data, labels):\n",
    "    ans = data[['dataset_id', 'weight']].join(labels).groupby(['dataset_id', 'label']).sum()['weight']\n",
    "    ans /= ans.sum(level='dataset_id')\n",
    "    \n",
    "    return ans"
   ]
  },
  {
   "cell_type": "code",
   "execution_count": 11,
   "metadata": {
    "collapsed": true
   },
   "outputs": [],
   "source": [
    "from bernoullimix.random_initialisation import random_mixture_generator\n",
    "N_MIXTURES_TO_TRAIN = 3\n",
    "K=10"
   ]
  },
  {
   "cell_type": "markdown",
   "metadata": {},
   "source": [
    "# Constraining mixing coefficients for datasets"
   ]
  },
  {
   "cell_type": "code",
   "execution_count": 12,
   "metadata": {
    "collapsed": true
   },
   "outputs": [],
   "source": [
    "training_data_same_dataset = training_data.copy()\n",
    "training_data_same_dataset['dataset_id'] = 'merged'"
   ]
  },
  {
   "cell_type": "code",
   "execution_count": 13,
   "metadata": {
    "collapsed": false
   },
   "outputs": [
    {
     "data": {
      "text/plain": [
       "<matplotlib.lines.Line2D at 0x7f98ac8f5e48>"
      ]
     },
     "execution_count": 13,
     "metadata": {},
     "output_type": "execute_result"
    },
    {
     "data": {
      "image/png": "[encoded data removed]",
      "text/plain": [
       "<matplotlib.figure.Figure at 0x7f98ac8f8080>"
      ]
     },
     "metadata": {},
     "output_type": "display_data"
    }
   ],
   "source": [
    "label_distribution(training_data_same_dataset, labels).unstack('label').plot(kind='bar')\n",
    "plt.axhline(0.1, linestyle=':')"
   ]
  },
  {
   "cell_type": "code",
   "execution_count": 14,
   "metadata": {
    "collapsed": false
   },
   "outputs": [
    {
     "name": "stderr",
     "output_type": "stream",
     "text": [
      "/home/saulius/dev/bernoulli-mixture-model/bernoullimix/random_initialisation.py:140: FutureWarning: using '-' to provide set differences with Indexes is deprecated, use .difference()\n",
      "  data = dataset[dataset.columns - [DATASET_ID_COLUMN, WEIGHT_COLUMN]]\n"
     ]
    }
   ],
   "source": [
    "import itertools\n",
    "mixtures = list(itertools.islice(random_mixture_generator(K, \n",
    "                                                          training_data_same_dataset, \n",
    "                                                          random_state=RANDOM_STATE), \n",
    "                                 N_MIXTURES_TO_TRAIN))"
   ]
  },
  {
   "cell_type": "code",
   "execution_count": 15,
   "metadata": {
    "collapsed": false,
    "scrolled": false
   },
   "outputs": [
    {
     "name": "stdout",
     "output_type": "stream",
     "text": [
      "Fitting #0\n",
      "(True, 470, -17938.700252026916)\n",
      "Fitting #1\n",
      "(True, 884, -17792.555231822531)\n",
      "Fitting #2\n",
      "(True, 1012, -17864.241488138741)\n",
      "CPU times: user 7min 41s, sys: 4.74 s, total: 7min 46s\n",
      "Wall time: 7min 45s\n"
     ]
    }
   ],
   "source": [
    "%%time\n",
    "fit_results = []\n",
    "\n",
    "for i, mixture in enumerate(mixtures):\n",
    "    print('Fitting #{}'.format(i))\n",
    "    \n",
    "    result = mixture.fit(training_data_same_dataset, eps=1e-4, verbose=False, n_iter=None)\n",
    "    print(result)\n",
    "    fit_results.append(result)  \n",
    "    "
   ]
  },
  {
   "cell_type": "code",
   "execution_count": 16,
   "metadata": {
    "collapsed": true
   },
   "outputs": [],
   "source": [
    "log_likelihoods = [x[2] for x in fit_results]"
   ]
  },
  {
   "cell_type": "code",
   "execution_count": null,
   "metadata": {
    "collapsed": false
   },
   "outputs": [],
   "source": [
    "for i, mixture in enumerate(mixtures):\n",
    "    plt.figure()\n",
    "    mixture.mixing_coefficients.T.plot(kind='bar')\n",
    "    plt.title('Mixture #{}. LL={}'.format(i, fit_results[i][2]))"
   ]
  },
  {
   "cell_type": "code",
   "execution_count": null,
   "metadata": {
    "collapsed": false,
    "scrolled": false
   },
   "outputs": [],
   "source": [
    "for i, mixture in enumerate(mixtures):\n",
    "    plt.figure(figsize=(15,15))\n",
    "    for j, (component, row) in enumerate(mixture.emission_probabilities.iterrows(), start=1):\n",
    "        plt.subplot(4,3,j)\n",
    "        draw_digit(row)\n",
    "        plt.title(component)\n",
    "    plt.suptitle('Mixture #{}. LL={}'.format(i, fit_results[i][2]))\n",
    "        "
   ]
  },
  {
   "cell_type": "markdown",
   "metadata": {},
   "source": [
    "# Unconstrained mixture"
   ]
  },
  {
   "cell_type": "code",
   "execution_count": null,
   "metadata": {
    "collapsed": false
   },
   "outputs": [],
   "source": [
    "label_distribution(training_data, labels).unstack('label').plot(kind='bar')\n",
    "plt.axhline(0.1, linestyle=':')"
   ]
  },
  {
   "cell_type": "code",
   "execution_count": null,
   "metadata": {
    "collapsed": false
   },
   "outputs": [],
   "source": [
    "import itertools\n",
    "mixtures = list(itertools.islice(random_mixture_generator(K, \n",
    "                                                          training_data, \n",
    "                                                          random_state=RANDOM_STATE), \n",
    "                                 N_MIXTURES_TO_TRAIN))"
   ]
  },
  {
   "cell_type": "code",
   "execution_count": null,
   "metadata": {
    "collapsed": false
   },
   "outputs": [],
   "source": [
    "%%time\n",
    "fit_results = []\n",
    "\n",
    "for i, mixture in enumerate(mixtures):\n",
    "    print('Fitting #{}'.format(i))\n",
    "    \n",
    "    result = mixture.fit(training_data, eps=1e-4, verbose=False, n_iter=None)\n",
    "    print(result)\n",
    "    fit_results.append(result)  \n",
    "    "
   ]
  },
  {
   "cell_type": "code",
   "execution_count": null,
   "metadata": {
    "collapsed": true
   },
   "outputs": [],
   "source": [
    "log_likelihoods = [x[2] for x in fit_results]"
   ]
  },
  {
   "cell_type": "code",
   "execution_count": null,
   "metadata": {
    "collapsed": false
   },
   "outputs": [],
   "source": [
    "for i, mixture in enumerate(mixtures):\n",
    "    plt.figure()\n",
    "    mixture.mixing_coefficients.T.plot(kind='bar')\n",
    "    plt.title('Mixture #{}. LL={}'.format(i, fit_results[i][2]))"
   ]
  },
  {
   "cell_type": "code",
   "execution_count": null,
   "metadata": {
    "collapsed": false,
    "scrolled": false
   },
   "outputs": [],
   "source": [
    "for i, mixture in enumerate(mixtures):\n",
    "    plt.figure(figsize=(15,15))\n",
    "    for j, (component, row) in enumerate(mixture.emission_probabilities.iterrows(), start=1):\n",
    "        plt.subplot(4,3,j)\n",
    "        draw_digit(row)\n",
    "        plt.title(component)\n",
    "    plt.suptitle('Mixture #{}. LL={}'.format(i, fit_results[i][2]))"
   ]
  },
  {
   "cell_type": "code",
   "execution_count": null,
   "metadata": {
    "collapsed": true
   },
   "outputs": [],
   "source": []
  }
 ],
 "metadata": {
  "kernelspec": {
   "display_name": "Python 3",
   "language": "python",
   "name": "python3"
  },
  "language_info": {
   "codemirror_mode": {
    "name": "ipython",
    "version": 3
   },
   "file_extension": ".py",
   "mimetype": "text/x-python",
   "name": "python",
   "nbconvert_exporter": "python",
   "pygments_lexer": "ipython3",
   "version": "3.5.1"
  }
 },
 "nbformat": 4,
 "nbformat_minor": 0
}
