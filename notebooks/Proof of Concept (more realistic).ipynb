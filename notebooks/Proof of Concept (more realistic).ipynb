{
 "cells": [
  {
   "cell_type": "code",
   "execution_count": 1,
   "metadata": {
    "collapsed": true
   },
   "outputs": [],
   "source": [
    "%matplotlib inline\n",
    "import numpy as np\n",
    "import pandas as pd\n",
    "from matplotlib import pyplot as plt\n",
    "import seaborn as sns"
   ]
  },
  {
   "cell_type": "code",
   "execution_count": 2,
   "metadata": {
    "collapsed": true
   },
   "outputs": [],
   "source": [
    "RANDOM_STATE = 112"
   ]
  },
  {
   "cell_type": "code",
   "execution_count": 3,
   "metadata": {
    "collapsed": true
   },
   "outputs": [],
   "source": [
    "import sklearn.datasets\n",
    "digits_dataset = sklearn.datasets.load_digits()\n",
    "digits = pd.DataFrame(digits_dataset.data)\n",
    "labels = pd.Series(digits_dataset.target, index=digits.index)\n",
    "\n",
    "THRESHOLD = np.mean(digits.values.reshape(-1))\n",
    "binary_digits = digits >= THRESHOLD\n",
    "\n",
    "from sklearn.utils import shuffle\n",
    "binary_digits = shuffle(binary_digits, random_state=RANDOM_STATE)\n",
    "labels = labels.loc[binary_digits.index]"
   ]
  },
  {
   "cell_type": "code",
   "execution_count": 4,
   "metadata": {
    "collapsed": true
   },
   "outputs": [],
   "source": [
    "K=len(labels.unique())\n",
    "D=len(binary_digits.columns)"
   ]
  },
  {
   "cell_type": "code",
   "execution_count": 5,
   "metadata": {
    "collapsed": true
   },
   "outputs": [],
   "source": [
    "def draw_digit(row, vmin=0, vmax=1, square=True, **kwargs):\n",
    "    return sns.heatmap(row.astype(float).reshape(8, 8), square=square, vmin=vmin, vmax=vmax, **kwargs)"
   ]
  },
  {
   "cell_type": "code",
   "execution_count": 6,
   "metadata": {
    "collapsed": false
   },
   "outputs": [
    {
     "name": "stderr",
     "output_type": "stream",
     "text": [
      "/Users/saulius/.virtualenvs/scientific-py3/lib/python3.4/site-packages/matplotlib/collections.py:590: FutureWarning: elementwise comparison failed; returning scalar instead, but in the future will perform elementwise comparison\n",
      "  if self._edgecolors == str('face'):\n"
     ]
    },
    {
     "data": {
      "text/plain": [
       "<matplotlib.text.Text at 0x10e800390>"
      ]
     },
     "execution_count": 6,
     "metadata": {},
     "output_type": "execute_result"
    },
    {
     "data": {
      "image/png": "[encoded data removed]",
      "text/plain": [
       "<matplotlib.figure.Figure at 0x10ea24ef0>"
      ]
     },
     "metadata": {},
     "output_type": "display_data"
    }
   ],
   "source": [
    "draw_digit(binary_digits.iloc[0])\n",
    "plt.title(labels.iloc[0])"
   ]
  },
  {
   "cell_type": "code",
   "execution_count": 7,
   "metadata": {
    "collapsed": true
   },
   "outputs": [],
   "source": [
    "up_missing = binary_digits.iloc[:len(binary_digits)//4].copy()\n",
    "bottom_missing = binary_digits.iloc[len(binary_digits)//4:len(binary_digits)//2].copy()\n",
    "even_missing = binary_digits.iloc[len(binary_digits)//2:].copy()\n",
    "up_missing.iloc[:, :D//2] = None\n",
    "bottom_missing.iloc[:, D//2:] = None\n",
    "even_missing.iloc[:, np.arange(0, D, 2)] = None\n",
    "\n",
    "up_missing['dataset_id'] = 'up_missing'\n",
    "bottom_missing['dataset_id'] = 'bottom_missing'\n",
    "even_missing['dataset_id'] = 'even_missing'\n",
    "\n",
    "training_data = pd.concat((up_missing, bottom_missing, even_missing))"
   ]
  },
  {
   "cell_type": "code",
   "execution_count": 8,
   "metadata": {
    "collapsed": true
   },
   "outputs": [],
   "source": [
    "training_data['weight'] = 1"
   ]
  },
  {
   "cell_type": "code",
   "execution_count": 9,
   "metadata": {
    "collapsed": true
   },
   "outputs": [],
   "source": [
    "from bernoullimix import MultiDatasetMixtureModel\n",
    "training_data = MultiDatasetMixtureModel.collapse_dataset(training_data)"
   ]
  },
  {
   "cell_type": "code",
   "execution_count": 10,
   "metadata": {
    "collapsed": true
   },
   "outputs": [],
   "source": [
    "from bernoullimix.random_initialisation import random_mixture_generator"
   ]
  },
  {
   "cell_type": "code",
   "execution_count": 11,
   "metadata": {
    "collapsed": true
   },
   "outputs": [],
   "source": [
    "N_MIXTURES_TO_TRAIN = 10"
   ]
  },
  {
   "cell_type": "code",
   "execution_count": 12,
   "metadata": {
    "collapsed": false
   },
   "outputs": [
    {
     "name": "stderr",
     "output_type": "stream",
     "text": [
      "/Users/saulius/dev/bernoulli-mixture-model/bernoullimix/random_initialisation.py:140: FutureWarning: using '-' to provide set differences with Indexes is deprecated, use .difference()\n",
      "  data = dataset[dataset.columns - [DATASET_ID_COLUMN, WEIGHT_COLUMN]]\n"
     ]
    }
   ],
   "source": [
    "import itertools\n",
    "mixtures = list(itertools.islice(random_mixture_generator(10, training_data, random_state=RANDOM_STATE), N_MIXTURES_TO_TRAIN))"
   ]
  },
  {
   "cell_type": "code",
   "execution_count": 13,
   "metadata": {
    "collapsed": false,
    "scrolled": false
   },
   "outputs": [
    {
     "name": "stdout",
     "output_type": "stream",
     "text": [
      "Fitting #0\n",
      "(True, 285, -21138.140600895727)\n",
      "Fitting #1\n",
      "(True, 261, -20789.750647965186)\n",
      "Fitting #2\n",
      "(True, 287, -20947.418228684903)\n",
      "Fitting #3\n",
      "(True, 428, -20840.313250334344)\n",
      "Fitting #4\n",
      "(True, 257, -21045.816923257546)\n",
      "Fitting #5\n",
      "(True, 244, -20967.702848688812)\n",
      "Fitting #6\n",
      "(True, 218, -21398.236027652074)\n",
      "Fitting #7\n",
      "(True, 306, -20981.363369147588)\n",
      "Fitting #8\n",
      "(True, 467, -20771.519964851715)\n",
      "Fitting #9\n",
      "(True, 1305, -20891.991061230008)\n",
      "CPU times: user 41min 8s, sys: 9.52 s, total: 41min 17s\n",
      "Wall time: 41min 19s\n"
     ]
    }
   ],
   "source": [
    "%%time\n",
    "fit_results = []\n",
    "\n",
    "for i, mixture in enumerate(mixtures):\n",
    "    print('Fitting #{}'.format(i))\n",
    "    \n",
    "    result = mixture.fit(training_data, eps=1e-4, verbose=False, n_iter=None)\n",
    "    print(result)\n",
    "    fit_results.append(result)  \n",
    "    "
   ]
  },
  {
   "cell_type": "code",
   "execution_count": null,
   "metadata": {
    "collapsed": true
   },
   "outputs": [],
   "source": []
  }
 ],
 "metadata": {
  "kernelspec": {
   "display_name": "Python 3",
   "language": "python",
   "name": "python3"
  },
  "language_info": {
   "codemirror_mode": {
    "name": "ipython",
    "version": 3
   },
   "file_extension": ".py",
   "mimetype": "text/x-python",
   "name": "python",
   "nbconvert_exporter": "python",
   "pygments_lexer": "ipython3",
   "version": "3.4.3"
  }
 },
 "nbformat": 4,
 "nbformat_minor": 0
}
